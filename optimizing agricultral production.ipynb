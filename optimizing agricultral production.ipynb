{
 "cells": [
  {
   "cell_type": "markdown",
   "id": "44cee022",
   "metadata": {},
   "source": [
    "# AGRI-PRODUCE OPTIMIZATION ENGINE\n"
   ]
  },
  {
   "cell_type": "code",
   "execution_count": 79,
   "id": "3aec13a3",
   "metadata": {},
   "outputs": [],
   "source": [
    "import pandas as pd \n",
    "import numpy as np\n",
    "import matplotlib.pyplot as plt\n",
    "import seaborn as sns\n",
    "from ipywidgets import interact"
   ]
  },
  {
   "cell_type": "code",
   "execution_count": 80,
   "id": "51e1882c",
   "metadata": {},
   "outputs": [],
   "source": [
    "data = pd.read_csv('dataSet.csv')"
   ]
  },
  {
   "cell_type": "code",
   "execution_count": 81,
   "id": "0e9b664f",
   "metadata": {},
   "outputs": [
    {
     "name": "stdout",
     "output_type": "stream",
     "text": [
      "shape of the dataset: (2200, 8)\n"
     ]
    }
   ],
   "source": [
    "print(\"shape of the dataset:\",data.shape)"
   ]
  },
  {
   "cell_type": "code",
   "execution_count": 82,
   "id": "00ca08dd",
   "metadata": {},
   "outputs": [
    {
     "data": {
      "text/html": [
       "<div>\n",
       "<style scoped>\n",
       "    .dataframe tbody tr th:only-of-type {\n",
       "        vertical-align: middle;\n",
       "    }\n",
       "\n",
       "    .dataframe tbody tr th {\n",
       "        vertical-align: top;\n",
       "    }\n",
       "\n",
       "    .dataframe thead th {\n",
       "        text-align: right;\n",
       "    }\n",
       "</style>\n",
       "<table border=\"1\" class=\"dataframe\">\n",
       "  <thead>\n",
       "    <tr style=\"text-align: right;\">\n",
       "      <th></th>\n",
       "      <th>N</th>\n",
       "      <th>P</th>\n",
       "      <th>K</th>\n",
       "      <th>temperature</th>\n",
       "      <th>humidity</th>\n",
       "      <th>ph</th>\n",
       "      <th>rainfall</th>\n",
       "      <th>label</th>\n",
       "    </tr>\n",
       "  </thead>\n",
       "  <tbody>\n",
       "    <tr>\n",
       "      <th>0</th>\n",
       "      <td>90</td>\n",
       "      <td>42</td>\n",
       "      <td>43</td>\n",
       "      <td>20.879744</td>\n",
       "      <td>82.002744</td>\n",
       "      <td>6.502985</td>\n",
       "      <td>202.935536</td>\n",
       "      <td>rice</td>\n",
       "    </tr>\n",
       "    <tr>\n",
       "      <th>1</th>\n",
       "      <td>85</td>\n",
       "      <td>58</td>\n",
       "      <td>41</td>\n",
       "      <td>21.770462</td>\n",
       "      <td>80.319644</td>\n",
       "      <td>7.038096</td>\n",
       "      <td>226.655537</td>\n",
       "      <td>rice</td>\n",
       "    </tr>\n",
       "    <tr>\n",
       "      <th>2</th>\n",
       "      <td>60</td>\n",
       "      <td>55</td>\n",
       "      <td>44</td>\n",
       "      <td>23.004459</td>\n",
       "      <td>82.320763</td>\n",
       "      <td>7.840207</td>\n",
       "      <td>263.964248</td>\n",
       "      <td>rice</td>\n",
       "    </tr>\n",
       "    <tr>\n",
       "      <th>3</th>\n",
       "      <td>74</td>\n",
       "      <td>35</td>\n",
       "      <td>40</td>\n",
       "      <td>26.491096</td>\n",
       "      <td>80.158363</td>\n",
       "      <td>6.980401</td>\n",
       "      <td>242.864034</td>\n",
       "      <td>rice</td>\n",
       "    </tr>\n",
       "    <tr>\n",
       "      <th>4</th>\n",
       "      <td>78</td>\n",
       "      <td>42</td>\n",
       "      <td>42</td>\n",
       "      <td>20.130175</td>\n",
       "      <td>81.604873</td>\n",
       "      <td>7.628473</td>\n",
       "      <td>262.717340</td>\n",
       "      <td>rice</td>\n",
       "    </tr>\n",
       "  </tbody>\n",
       "</table>\n",
       "</div>"
      ],
      "text/plain": [
       "    N   P   K  temperature   humidity        ph    rainfall label\n",
       "0  90  42  43    20.879744  82.002744  6.502985  202.935536  rice\n",
       "1  85  58  41    21.770462  80.319644  7.038096  226.655537  rice\n",
       "2  60  55  44    23.004459  82.320763  7.840207  263.964248  rice\n",
       "3  74  35  40    26.491096  80.158363  6.980401  242.864034  rice\n",
       "4  78  42  42    20.130175  81.604873  7.628473  262.717340  rice"
      ]
     },
     "execution_count": 82,
     "metadata": {},
     "output_type": "execute_result"
    }
   ],
   "source": [
    "data.head()"
   ]
  },
  {
   "cell_type": "code",
   "execution_count": 83,
   "id": "46027628",
   "metadata": {},
   "outputs": [
    {
     "data": {
      "text/plain": [
       "N              0\n",
       "P              0\n",
       "K              0\n",
       "temperature    0\n",
       "humidity       0\n",
       "ph             0\n",
       "rainfall       0\n",
       "label          0\n",
       "dtype: int64"
      ]
     },
     "execution_count": 83,
     "metadata": {},
     "output_type": "execute_result"
    }
   ],
   "source": [
    "data.isnull().sum()"
   ]
  },
  {
   "cell_type": "code",
   "execution_count": 84,
   "id": "1a1de4f3",
   "metadata": {},
   "outputs": [
    {
     "data": {
      "text/plain": [
       "rice           100\n",
       "maize          100\n",
       "jute           100\n",
       "cotton         100\n",
       "coconut        100\n",
       "papaya         100\n",
       "orange         100\n",
       "apple          100\n",
       "muskmelon      100\n",
       "watermelon     100\n",
       "grapes         100\n",
       "mango          100\n",
       "banana         100\n",
       "pomegranate    100\n",
       "lentil         100\n",
       "blackgram      100\n",
       "mungbean       100\n",
       "mothbeans      100\n",
       "pigeonpeas     100\n",
       "kidneybeans    100\n",
       "chickpea       100\n",
       "coffee         100\n",
       "Name: label, dtype: int64"
      ]
     },
     "execution_count": 84,
     "metadata": {},
     "output_type": "execute_result"
    }
   ],
   "source": [
    "data['label'].value_counts()"
   ]
  },
  {
   "cell_type": "code",
   "execution_count": 85,
   "id": "6bb597b3",
   "metadata": {},
   "outputs": [
    {
     "name": "stdout",
     "output_type": "stream",
     "text": [
      "average ratio of nitrogen in the soil:50.55\n",
      "average ratio of phosphorus in the soil:53.36\n",
      "average ratio of potassium in the soil:48.15\n",
      "average temperature in celius:25.62\n",
      "average relative humidity in %:71.48\n",
      "average ph value of the soil:6.47\n",
      "average rainfall in mn:103.46\n"
     ]
    }
   ],
   "source": [
    "print(\"average ratio of nitrogen in the soil:{0:.2f}\".format(data['N'].mean()))\n",
    "print(\"average ratio of phosphorus in the soil:{0:.2f}\".format(data['P'].mean()))\n",
    "print(\"average ratio of potassium in the soil:{0:.2f}\".format(data['K'].mean()))\n",
    "print(\"average temperature in celius:{0:.2f}\".format(data['temperature'].mean()))\n",
    "print(\"average relative humidity in %:{0:.2f}\".format(data['humidity'].mean()))\n",
    "print(\"average ph value of the soil:{0:.2f}\".format(data['ph'].mean()))\n",
    "print(\"average rainfall in mn:{0:.2f}\".format(data['rainfall'].mean()))"
   ]
  },
  {
   "cell_type": "code",
   "execution_count": 86,
   "id": "1571d390",
   "metadata": {},
   "outputs": [
    {
     "data": {
      "application/vnd.jupyter.widget-view+json": {
       "model_id": "9b4a641599504a8fb58ebd9f73d01f37",
       "version_major": 2,
       "version_minor": 0
      },
      "text/plain": [
       "interactive(children=(Dropdown(description='crops', options=('rice', 'maize', 'jute', 'cotton', 'coconut', 'pa…"
      ]
     },
     "metadata": {},
     "output_type": "display_data"
    }
   ],
   "source": [
    "@interact\n",
    "def summary(crops = list(data['label'].value_counts().index)):\n",
    "    x = data[data['label'] == crops]\n",
    "    print(\".................................................\")\n",
    "    print(\"statistical for nitrogen\")\n",
    "    print(\"minimum nitrogen required:\",x['N'].min())\n",
    "    print(\"average nitrogen required:\",x['N'].mean())\n",
    "    print(\"maximum nitrogen required:\",x['N'].max())\n",
    "    print(\".................................................\")\n",
    "    print(\"statistical for phosphorous\")\n",
    "    print(\"minimum phosphorous required:\",x['P'].min())\n",
    "    print(\"average phosphorous required:\",x['P'].mean())\n",
    "    print(\"maximum phosphorous required:\",x['P'].max())\n",
    "    print(\".................................................\")\n",
    "    print(\"statistical for potassium\")\n",
    "    print(\"minimum potassium required:\",x['K'].min())\n",
    "    print(\"average potassium required:\",x['K'].mean())\n",
    "    print(\"maximum potassium required:\",x['K'].max())\n",
    "    print(\".................................................\")\n",
    "    print(\"statistical for temperature\")\n",
    "    print(\"minimum temperature required:(0:.2f)\",format(x['temperature'].min()))\n",
    "    print(\"average temperature required:(0:.2f)\",format(x['temperature'].mean()))\n",
    "    print(\"maximum temperature required:(0:.2f)\",format(x['temperature'].max()))\n",
    "    print(\".................................................\")\n",
    "    print(\"statistical for humidity\")\n",
    "    print(\"minimum humidity required:(0:.2f)\",format(x['humidity'].min()))\n",
    "    print(\"average humidity required:(0:.2f)\",format(x['humidity'].mean()))\n",
    "    print(\"maximum humidity required:(0:.2f)\",format(x['humidity'].max()))\n",
    "    print(\".................................................\")\n",
    "    print(\"statistical for ph\")\n",
    "    print(\"minimum ph required:(0:.2f)\",format(x['ph'].min()))\n",
    "    print(\"average ph required:(0:.2f)\",format(x['ph'].mean()))\n",
    "    print(\"maximum ph required:(0:.2f)\",format(x['ph'].max()))\n",
    "    print(\".................................................\")\n",
    "    print(\"statistical for rainfall\")\n",
    "    print(\"minimum rainfall required:(0:.2f)\",format(x['rainfall'].min()))\n",
    "    print(\"average rainfall required:(0:.2f)\",format(x['rainfall'].mean()))\n",
    "    print(\"maximum rainfall required:(0:.2f)\",format(x['rainfall'].max()))"
   ]
  },
  {
   "cell_type": "code",
   "execution_count": 87,
   "id": "fb66f270",
   "metadata": {},
   "outputs": [
    {
     "data": {
      "application/vnd.jupyter.widget-view+json": {
       "model_id": "30c050cd1e0341259feeae90019add24",
       "version_major": 2,
       "version_minor": 0
      },
      "text/plain": [
       "interactive(children=(Dropdown(description='conditions', options=('N', 'P', 'K', 'temperature', 'ph', 'humidit…"
      ]
     },
     "metadata": {},
     "output_type": "display_data"
    }
   ],
   "source": [
    "@interact\n",
    "def compare(conditions =['N','P','K','temperature','ph','humidity','rainfall']):\n",
    "    print(\"average value for\",conditions,\"is{0:.2f}\".format(data[conditions].mean()))\n",
    "    print(\"..............................................................\")\n",
    "    print(\"Rice:(0:2f)\".format(data[(data['label']=='rice')][conditions].mean()))\n",
    "    print(\"blackgram:(0:2f)\".format(data[(data['label']=='blackgram')][conditions].mean()))\n",
    "    print(\"banana:(0:2f)\".format(data[(data['label']=='banana')][conditions].mean()))\n",
    "    print(\"jute:(0:2f)\".format(data[(data['label']=='jute')][conditions].mean()))\n",
    "    print(\"coconut:(0:2f)\".format(data[(data['label']=='coconut')][conditions].mean()))\n",
    "    print(\"apple:(0:2f)\".format(data[(data['label']=='apple')][conditions].mean()))\n",
    "    print(\"papaya:(0:2f)\".format(data[(data['label']=='papaya')][conditions].mean()))\n",
    "    print(\"muskmelon:(0:2f)\".format(data[(data['label']=='muskmelon')][conditions].mean()))\n",
    "    print(\"grapes:(0:2f)\".format(data[(data['label']=='grapes')][conditions].mean()))\n",
    "    print(\"watermelon:(0:2f)\".format(data[(data['label']=='watermelon')][conditions].mean()))\n",
    "    print(\"kidneybean:(0:2f)\".format(data[(data['label']=='kidneybean')][conditions].mean()))\n",
    "    print(\"mungbean:(0:2f)\".format(data[(data['label']=='mungbean')][conditions].mean()))\n",
    "    print(\"orange:(0:2f)\".format(data[(data['label']=='orange')][conditions].mean()))\n",
    "    print(\"chickpea:(0:2f)\".format(data[(data['label']=='chickpea')][conditions].mean()))\n",
    "    print(\"lentil:(0:2f)\".format(data[(data['label']=='lentil')][conditions].mean()))\n",
    "    print(\"cotton:(0:2f)\".format(data[(data['label']=='cotton')][conditions].mean()))\n",
    "    print(\"maze:(0:2f)\".format(data[(data['label']=='maze')][conditions].mean()))"
   ]
  },
  {
   "cell_type": "code",
   "execution_count": 88,
   "id": "b16ff5d5",
   "metadata": {},
   "outputs": [
    {
     "data": {
      "application/vnd.jupyter.widget-view+json": {
       "model_id": "9d3dd6c4267d4d99bead5c2596d68bb8",
       "version_major": 2,
       "version_minor": 0
      },
      "text/plain": [
       "interactive(children=(Dropdown(description='conditions', options=('N', 'P', 'K', 'temperature', 'ph', 'humidit…"
      ]
     },
     "metadata": {},
     "output_type": "display_data"
    }
   ],
   "source": [
    "@interact\n",
    "def compare(conditions =['N','P','K','temperature','ph','humidity','rainfall']):\n",
    "    print(\"crops which require greater then average\",conditions,'/n')\n",
    "    print(data[data[conditions]>data[conditions].mean()]['label'].unique())\n",
    "    print(\"..............................................................\")\n",
    "    print(\"crops which reqiure less than average\",conditions,'\\n')\n",
    "    print(data[data[conditions]<=data[conditions].mean()]['label'].unique())"
   ]
  },
  {
   "cell_type": "code",
   "execution_count": 89,
   "id": "ed3b92fd",
   "metadata": {},
   "outputs": [
    {
     "name": "stderr",
     "output_type": "stream",
     "text": [
      "C:\\Users\\SUKRITI SOOD\\anaconda3\\lib\\site-packages\\seaborn\\distributions.py:2619: FutureWarning: `distplot` is a deprecated function and will be removed in a future version. Please adapt your code to use either `displot` (a figure-level function with similar flexibility) or `histplot` (an axes-level function for histograms).\n",
      "  warnings.warn(msg, FutureWarning)\n",
      "C:\\Users\\SUKRITI SOOD\\anaconda3\\lib\\site-packages\\seaborn\\distributions.py:2619: FutureWarning: `distplot` is a deprecated function and will be removed in a future version. Please adapt your code to use either `displot` (a figure-level function with similar flexibility) or `histplot` (an axes-level function for histograms).\n",
      "  warnings.warn(msg, FutureWarning)\n",
      "C:\\Users\\SUKRITI SOOD\\anaconda3\\lib\\site-packages\\seaborn\\distributions.py:2619: FutureWarning: `distplot` is a deprecated function and will be removed in a future version. Please adapt your code to use either `displot` (a figure-level function with similar flexibility) or `histplot` (an axes-level function for histograms).\n",
      "  warnings.warn(msg, FutureWarning)\n",
      "C:\\Users\\SUKRITI SOOD\\anaconda3\\lib\\site-packages\\seaborn\\distributions.py:2619: FutureWarning: `distplot` is a deprecated function and will be removed in a future version. Please adapt your code to use either `displot` (a figure-level function with similar flexibility) or `histplot` (an axes-level function for histograms).\n",
      "  warnings.warn(msg, FutureWarning)\n",
      "C:\\Users\\SUKRITI SOOD\\anaconda3\\lib\\site-packages\\seaborn\\distributions.py:2619: FutureWarning: `distplot` is a deprecated function and will be removed in a future version. Please adapt your code to use either `displot` (a figure-level function with similar flexibility) or `histplot` (an axes-level function for histograms).\n",
      "  warnings.warn(msg, FutureWarning)\n",
      "C:\\Users\\SUKRITI SOOD\\anaconda3\\lib\\site-packages\\seaborn\\distributions.py:2619: FutureWarning: `distplot` is a deprecated function and will be removed in a future version. Please adapt your code to use either `displot` (a figure-level function with similar flexibility) or `histplot` (an axes-level function for histograms).\n",
      "  warnings.warn(msg, FutureWarning)\n"
     ]
    },
    {
     "data": {
      "image/png": "[encoded data removed]",
      "text/plain": [
       "<Figure size 720x720 with 1 Axes>"
      ]
     },
     "metadata": {
      "needs_background": "light"
     },
     "output_type": "display_data"
    },
    {
     "data": {
      "image/png": "[encoded data removed]",
      "text/plain": [
       "<Figure size 360x360 with 6 Axes>"
      ]
     },
     "metadata": {
      "needs_background": "light"
     },
     "output_type": "display_data"
    }
   ],
   "source": [
    "plt.subplot(2,4,1)\n",
    "sns.displot(data['N'],color ='red')\n",
    "plt.xlabel(\"ratio of Nitrogen\",fontsize=8)\n",
    "plt.grid()\n",
    "plt.subplot(2,4,2)\n",
    "sns.distplot(data['P'],color ='blue')\n",
    "plt.xlabel(\"ratio of P\",fontsize=8)\n",
    "plt.grid()\n",
    "plt.subplot(2,4,3)\n",
    "sns.distplot(data['K'],color ='green')\n",
    "plt.xlabel(\"ratio of K\",fontsize=8)\n",
    "plt.grid()\n",
    "plt.subplot(2,4,5)\n",
    "sns.distplot(data['temperature'],color ='yellow')\n",
    "plt.xlabel(\"ratio of temperature\",fontsize=8)\n",
    "plt.grid()\n",
    "plt.subplot(2,4,6)\n",
    "sns.distplot(data['rainfall'],color ='pink')\n",
    "plt.xlabel(\"ratio of rainfall\",fontsize=8)\n",
    "plt.grid()\n",
    "plt.subplot(2,4,7)\n",
    "sns.distplot(data['humidity'],color ='purple')\n",
    "plt.xlabel(\"ratio of humidity\",fontsize=8)\n",
    "plt.grid()\n",
    "plt.subplot(2,4,8)\n",
    "sns.distplot(data['ph'],color ='orange')\n",
    "plt.xlabel(\"ratio of ph\",fontsize=8)\n",
    "plt.grid()\n",
    "plt.suptitle('distribution for Agricultural conditions',fontsize =20)\n",
    "plt.show()"
   ]
  },
  {
   "cell_type": "code",
   "execution_count": 90,
   "id": "26485bba",
   "metadata": {},
   "outputs": [
    {
     "name": "stdout",
     "output_type": "stream",
     "text": [
      "some interesting patterns\n",
      ".........................\n",
      "crop which required very high ratio of nitrogen content in soil ['cotton']\n",
      "crop which required very high ratio of phosphorous content in soil ['grapes' 'apple']\n",
      "crop which required very high ratio of potassium content in soil ['grapes' 'apple']\n",
      "crop which required very high rainfall  ['rice' 'papaya' 'coconut']\n",
      "crop which required very low  temperature  ['grapes']\n",
      "crop which required very high  temperature  ['grapes' 'papaya']\n",
      "crop which required very low  humidity  ['chickpea' 'kidneybeans' 'pigeonpeas']\n",
      "crop which required very  low ph  ['mothbeans']\n",
      "crop which required very  high ph  ['mothbeans']\n"
     ]
    }
   ],
   "source": [
    "print(\"some interesting patterns\")\n",
    "print(\".........................\")\n",
    "print(\"crop which required very high ratio of nitrogen content in soil\",data[data['N']>120]['label'].unique())\n",
    "print(\"crop which required very high ratio of phosphorous content in soil\",data[data['P']>100]['label'].unique())\n",
    "print(\"crop which required very high ratio of potassium content in soil\",data[data['K']>200]['label'].unique())\n",
    "print(\"crop which required very high rainfall \",data[data['rainfall']>200]['label'].unique())\n",
    "print(\"crop which required very low  temperature \",data[data['temperature']<10]['label'].unique())\n",
    "print(\"crop which required very high  temperature \",data[data['temperature']>40]['label'].unique())\n",
    "print(\"crop which required very low  humidity \",data[data['humidity']<40]['label'].unique())\n",
    "print(\"crop which required very  low ph \",data[data['ph']<4]['label'].unique())\n",
    "print(\"crop which required very  high ph \",data[data['ph']>9]['label'].unique())"
   ]
  },
  {
   "cell_type": "code",
   "execution_count": 91,
   "id": "e98320af",
   "metadata": {},
   "outputs": [
    {
     "name": "stdout",
     "output_type": "stream",
     "text": [
      "summer crops\n",
      "['pigeonpeas' 'mothbeans' 'blackgram' 'mango' 'grapes' 'orange' 'papaya']\n",
      ".....................................................................\n",
      "winter crops\n",
      "['rice' 'maize' 'pigeonpeas' 'mothbeans' 'mungbean' 'blackgram' 'lentil'\n",
      " 'pomegranate' 'banana' 'mango' 'grapes' 'watermelon' 'muskmelon' 'apple'\n",
      " 'orange' 'papaya' 'coconut' 'cotton' 'jute' 'coffee']\n",
      ".....................................................................\n",
      "rainy crops\n",
      "['rice' 'papaya' 'coconut']\n"
     ]
    }
   ],
   "source": [
    "print(\"summer crops\")\n",
    "print(data[(data['temperature']>30)&(data['humidity']>50)]['label'].unique())\n",
    "print(\".....................................................................\")\n",
    "print(\"winter crops\")\n",
    "print(data[(data['temperature']<30)&(data['humidity']>30)]['label'].unique())\n",
    "print(\".....................................................................\")\n",
    "print(\"rainy crops\")\n",
    "print(data[(data['rainfall']>200)&(data['humidity']>30)]['label'].unique())"
   ]
  },
  {
   "cell_type": "code",
   "execution_count": 92,
   "id": "8787f7e4",
   "metadata": {},
   "outputs": [
    {
     "name": "stdout",
     "output_type": "stream",
     "text": [
      "(2200, 7)\n"
     ]
    }
   ],
   "source": [
    "from sklearn.cluster import KMeans\n",
    "X=data.drop(['label'],axis=1)\n",
    "X=X.values\n",
    "print(X.shape)"
   ]
  },
  {
   "cell_type": "code",
   "execution_count": 93,
   "id": "270d3bfe",
   "metadata": {},
   "outputs": [
    {
     "data": {
      "image/png": "[encoded data removed]",
      "text/plain": [
       "<Figure size 720x288 with 1 Axes>"
      ]
     },
     "metadata": {
      "needs_background": "light"
     },
     "output_type": "display_data"
    }
   ],
   "source": [
    "plt.rcParams['figure.figsize']=(10,4)\n",
    "wcss=[]\n",
    "for i in range(1,11):\n",
    " km=KMeans(n_clusters =i,init='k-means++',max_iter=300,n_init=10,random_state=0)\n",
    " km.fit(X)\n",
    " wcss.append(km.inertia_)\n",
    "plt.plot(range(1,11),wcss)\n",
    "plt.title('The Elbow Method',fontsize=20)\n",
    "plt.xlabel('no of clusters')\n",
    "plt.ylabel('wcss')\n",
    "plt.show()"
   ]
  },
  {
   "cell_type": "code",
   "execution_count": 94,
   "id": "cb774e52",
   "metadata": {},
   "outputs": [
    {
     "name": "stdout",
     "output_type": "stream",
     "text": [
      "lets check the result after applying the K Mean clustering analysis \n",
      "\n",
      "crops in first cluster : ['maize' 'chickpea' 'kidneybeans' 'pigeonpeas' 'mothbeans' 'mungbean'\n",
      " 'blackgram' 'lentil' 'pomegranate' 'mango' 'orange' 'papaya' 'coconut']\n",
      "..............................................................\n",
      "crops in second cluster : ['maize' 'banana' 'watermelon' 'muskmelon' 'papaya' 'cotton' 'coffee']\n",
      "..............................................................\n",
      "crops in third cluster : ['rice' 'pigeonpeas' 'papaya' 'coconut' 'jute' 'coffee']\n",
      "..............................................................\n",
      "crops in fourth cluster : []\n",
      "..............................................................\n"
     ]
    }
   ],
   "source": [
    "km=KMeans(n_clusters=4,init='k-means++',max_iter=300,n_init=10,random_state=0)\n",
    "y_means=km.fit_predict(X)\n",
    "\n",
    "# lets find out the results\n",
    "a=data['label']\n",
    "y_means=pd.DataFrame(y_means)\n",
    "z=pd.concat([y_means,a],axis=1)\n",
    "z=z.rename(columns={0:'cluster'})\n",
    "\n",
    "#lets check the cluster of each crops\n",
    "print(\"lets check the result after applying the K Mean clustering analysis \\n\")\n",
    "print(\"crops in first cluster :\",z[z['cluster']==0]['label'].unique())\n",
    "print(\"..............................................................\")\n",
    "print(\"crops in second cluster :\",z[z['cluster']==1]['label'].unique())\n",
    "print(\"..............................................................\")\n",
    "print(\"crops in third cluster :\",z[z['cluster']==3]['label'].unique())\n",
    "print(\"..............................................................\")\n",
    "print(\"crops in fourth cluster :\",z[z['cluster']==4]['label'].unique())\n",
    "print(\"..............................................................\")"
   ]
  },
  {
   "cell_type": "code",
   "execution_count": 95,
   "id": "d9d51c7b",
   "metadata": {},
   "outputs": [
    {
     "name": "stdout",
     "output_type": "stream",
     "text": [
      "shape of x : (2200, 7)\n",
      "shape of x : (2200,)\n"
     ]
    }
   ],
   "source": [
    "#lets split the dataset for predictive modelling\n",
    "y=data['label']\n",
    "x=data.drop(['label'],axis=1)\n",
    "\n",
    "print(\"shape of x :\",x.shape)\n",
    "print(\"shape of x :\",y.shape)"
   ]
  },
  {
   "cell_type": "code",
   "execution_count": 96,
   "id": "3336f89f",
   "metadata": {},
   "outputs": [
    {
     "name": "stdout",
     "output_type": "stream",
     "text": [
      "the shape of x train: (1760, 7)\n",
      "the shape of x test:  (440, 7)\n",
      "the shape of y train:  (1760,)\n"
     ]
    }
   ],
   "source": [
    "#lets create Training and testing sets for validation of result\n",
    "from sklearn.model_selection import train_test_split\n",
    "\n",
    "x_train,x_test,y_train,y_test=train_test_split(x,y,test_size=0.2,random_state=0)\n",
    "print(\"the shape of x train:\",x_train.shape)\n",
    "print(\"the shape of x test: \",x_test.shape)\n",
    "print(\"the shape of y train: \",y_train.shape)"
   ]
  },
  {
   "cell_type": "code",
   "execution_count": 97,
   "id": "7739c572",
   "metadata": {},
   "outputs": [
    {
     "data": {
      "text/plain": [
       "SVC(random_state=0)"
      ]
     },
     "execution_count": 97,
     "metadata": {},
     "output_type": "execute_result"
    }
   ],
   "source": [
    "# Fitting classifier to the Training set\n",
    "from sklearn.svm import SVC\n",
    "classifier = SVC(random_state=0) # for non-linear model use this parametre kernel='rbf'\n",
    "classifier.fit(x_train, y_train)"
   ]
  },
  {
   "cell_type": "code",
   "execution_count": 98,
   "id": "d33959a7",
   "metadata": {},
   "outputs": [],
   "source": [
    "# Predicting the Test set results\n",
    "y_pred = classifier.predict(x_test)"
   ]
  },
  {
   "cell_type": "code",
   "execution_count": 99,
   "id": "aeed6044",
   "metadata": {},
   "outputs": [
    {
     "data": {
      "text/plain": [
       "0.9772727272727273"
      ]
     },
     "execution_count": 99,
     "metadata": {},
     "output_type": "execute_result"
    }
   ],
   "source": [
    "from sklearn.metrics import accuracy_score\n",
    "accuracy_score(y_test,y_pred)"
   ]
  },
  {
   "cell_type": "code",
   "execution_count": 100,
   "id": "5bd3f540",
   "metadata": {},
   "outputs": [
    {
     "data": {
      "image/png": "[encoded data removed]",
      "text/plain": [
       "<Figure size 720x720 with 2 Axes>"
      ]
     },
     "metadata": {
      "needs_background": "light"
     },
     "output_type": "display_data"
    }
   ],
   "source": [
    "#lets evaluate the model performance\n",
    "from sklearn.metrics import confusion_matrix\n",
    "\n",
    "#lets print the confusion matrix frist\n",
    "plt.rcParams['figure.figsize']=(10,10)\n",
    "cm=confusion_matrix(y_test,y_pred)\n",
    "sns.heatmap(cm,annot=True,cmap='Wistia')\n",
    "plt.title('confusion Matrix for logistic regression',fontsize=15)\n",
    "plt.show()"
   ]
  },
  {
   "cell_type": "code",
   "execution_count": 101,
   "id": "22ec7dcd",
   "metadata": {},
   "outputs": [
    {
     "name": "stdout",
     "output_type": "stream",
     "text": [
      "              precision    recall  f1-score   support\n",
      "\n",
      "       apple       1.00      1.00      1.00        18\n",
      "      banana       1.00      1.00      1.00        18\n",
      "   blackgram       0.96      1.00      0.98        22\n",
      "    chickpea       1.00      1.00      1.00        23\n",
      "     coconut       1.00      1.00      1.00        15\n",
      "      coffee       1.00      1.00      1.00        17\n",
      "      cotton       1.00      1.00      1.00        16\n",
      "      grapes       1.00      1.00      1.00        18\n",
      "        jute       0.78      1.00      0.88        21\n",
      " kidneybeans       0.87      1.00      0.93        20\n",
      "      lentil       1.00      1.00      1.00        17\n",
      "       maize       1.00      1.00      1.00        18\n",
      "       mango       1.00      1.00      1.00        21\n",
      "   mothbeans       1.00      0.96      0.98        25\n",
      "    mungbean       1.00      1.00      1.00        17\n",
      "   muskmelon       1.00      1.00      1.00        23\n",
      "      orange       1.00      1.00      1.00        23\n",
      "      papaya       1.00      1.00      1.00        21\n",
      "  pigeonpeas       1.00      0.86      0.93        22\n",
      " pomegranate       1.00      1.00      1.00        23\n",
      "        rice       1.00      0.76      0.86        25\n",
      "  watermelon       1.00      1.00      1.00        17\n",
      "\n",
      "    accuracy                           0.98       440\n",
      "   macro avg       0.98      0.98      0.98       440\n",
      "weighted avg       0.98      0.98      0.98       440\n",
      "\n"
     ]
    }
   ],
   "source": [
    "from sklearn import metrics\n",
    "#lets print the classification report also\n",
    "cr=metrics.classification_report(y_test,y_pred)\n",
    "print(cr)"
   ]
  },
  {
   "cell_type": "code",
   "execution_count": 102,
   "id": "0ed4d971",
   "metadata": {},
   "outputs": [
    {
     "name": "stdout",
     "output_type": "stream",
     "text": [
      "the suggested crop for given climatic condition is : maize\n"
     ]
    },
    {
     "name": "stderr",
     "output_type": "stream",
     "text": [
      "C:\\Users\\SUKRITI SOOD\\anaconda3\\lib\\site-packages\\sklearn\\base.py:450: UserWarning: X does not have valid feature names, but LogisticRegression was fitted with feature names\n",
      "  warnings.warn(\n"
     ]
    }
   ],
   "source": [
    "prediction=model.predict((np.array([[90,40,40,20,80,7,100]])))[0]\n",
    "print(\"the suggested crop for given climatic condition is :\",prediction)"
   ]
  },
  {
   "cell_type": "code",
   "execution_count": null,
   "id": "29f6fb22",
   "metadata": {},
   "outputs": [],
   "source": []
  },
  {
   "cell_type": "code",
   "execution_count": null,
   "id": "6261b4da",
   "metadata": {},
   "outputs": [],
   "source": []
  }
 ],
 "metadata": {
  "kernelspec": {
   "display_name": "Python 3 (ipykernel)",
   "language": "python",
   "name": "python3"
  },
  "language_info": {
   "codemirror_mode": {
    "name": "ipython",
    "version": 3
   },
   "file_extension": ".py",
   "mimetype": "text/x-python",
   "name": "python",
   "nbconvert_exporter": "python",
   "pygments_lexer": "ipython3",
   "version": "3.9.12"
  }
 },
 "nbformat": 4,
 "nbformat_minor": 5
}
